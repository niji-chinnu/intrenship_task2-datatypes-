{
 "cells": [
  {
   "cell_type": "markdown",
   "id": "a83daaa3",
   "metadata": {},
   "source": [
    "1. List Comprehension\n",
    "\n",
    "You are given three integers x,y and z representing the dimensions of a cuboid along with an integer n . Print a list of all possible coordinates given by(i,j,k) on a 3D grid where the sum of  is not equal to n ."
   ]
  },
  {
   "cell_type": "code",
   "execution_count": 3,
   "id": "eee8f219",
   "metadata": {},
   "outputs": [
    {
     "name": "stdout",
     "output_type": "stream",
     "text": [
      "2\n",
      "2\n",
      "2\n",
      "2\n",
      "[[0, 0, 0], [0, 0, 1], [0, 1, 0], [0, 1, 2], [0, 2, 1], [0, 2, 2], [1, 0, 0], [1, 0, 2], [1, 1, 1], [1, 1, 2], [1, 2, 0], [1, 2, 1], [1, 2, 2], [2, 0, 1], [2, 0, 2], [2, 1, 0], [2, 1, 1], [2, 1, 2], [2, 2, 0], [2, 2, 1], [2, 2, 2]]\n"
     ]
    }
   ],
   "source": [
    "x = int(input())\n",
    "y = int(input())\n",
    "z = int(input())\n",
    "n = int(input())\n",
    "output=[[i,j,k] for i in range(x +1) for j in range (y +1) for k in range(z +1) if i+j+k!=n]\n",
    "print(output)\n",
    "\n",
    "\n",
    "    "
   ]
  },
  {
   "cell_type": "markdown",
   "id": "cfbe0e7c",
   "metadata": {},
   "source": [
    "2. Runner up Score \n",
    "\n",
    "Given the participants' score sheet for your University Sports Day, you are required to find the runner-up score. You are given  n scores. Store them in a list and find the score of the runner-up.\n",
    "\n"
   ]
  },
  {
   "cell_type": "code",
   "execution_count": 19,
   "id": "09a58c2f",
   "metadata": {},
   "outputs": [
    {
     "name": "stdout",
     "output_type": "stream",
     "text": [
      "5\n",
      "2 3 6 6 5\n",
      "5\n"
     ]
    }
   ],
   "source": [
    "n = int(input())\n",
    "arr = map(int,input().split())    \n",
    "print(sorted(list(set(arr)))[-2])"
   ]
  },
  {
   "cell_type": "markdown",
   "id": "97c94cee",
   "metadata": {},
   "source": [
    "3.Nested List\n",
    "\n",
    "Given the names and grades for each student in a class of N students, store them in a nested list and print the name(s) of any student(s) having the second lowest grade."
   ]
  },
  {
   "cell_type": "code",
   "execution_count": 22,
   "id": "1f036658",
   "metadata": {},
   "outputs": [
    {
     "name": "stdout",
     "output_type": "stream",
     "text": [
      "5\n",
      "Harry\n",
      "37.21\n",
      "Berry\n",
      "37.21\n",
      "Tina\n",
      "37.2\n",
      "Ankriti\n",
      "41\n",
      "Harsh\n",
      "39\n",
      "Berry\n",
      "Harry\n"
     ]
    }
   ],
   "source": [
    "score_list = []\n",
    "for _ in range(int(input())):\n",
    "    name = input()\n",
    "    score = float(input())\n",
    "    \n",
    "    # Nested Lists in Python - Hacker Rank Solution START\n",
    "    score_list.append([name, score])\n",
    "second_highest = sorted(set([score for name, score in score_list]))[1]\n",
    "print('\\n'.join(sorted([name for name, score in score_list if score == second_highest])))\n",
    "# Nested Lists in Python - Hacker Rank Solution END"
   ]
  },
  {
   "cell_type": "markdown",
   "id": "ad26a73f",
   "metadata": {},
   "source": [
    "5.Finding Percentage\n",
    "\n",
    "The provided code stub will read in a dictionary containing key/value pairs of name:marks for a list of n students. Print the average of the marks array for the student name provided, showing 2 places after the decimal.\n"
   ]
  },
  {
   "cell_type": "code",
   "execution_count": 29,
   "id": "0a7cedd1",
   "metadata": {},
   "outputs": [
    {
     "name": "stdout",
     "output_type": "stream",
     "text": [
      "2\n",
      "Harsh 25 26.5 28\n",
      "Anurag 26 28 30\n",
      "Harsh\n",
      "26.50\n"
     ]
    }
   ],
   "source": [
    "n = int(input())\n",
    "student_marks = {}\n",
    "for _ in range(n):\n",
    "        name, *line = input().split()\n",
    "        scores = list(map(float, line))\n",
    "        student_marks[name] = scores\n",
    "query_name = input()\n",
    "marks=0\n",
    "for i in student_marks[query_name]:\n",
    "        marks=marks+i\n",
    "avg=marks/3\n",
    "print(\"%.2f\"%avg)\n",
    "                    "
   ]
  },
  {
   "cell_type": "markdown",
   "id": "2fa2449e",
   "metadata": {},
   "source": [
    "6. Lists\n",
    "Consider a list (list = []). You can perform the following commands:\n",
    "\n",
    "insert i e: Insert integer e at position .\n",
    "print: Print the list.\n",
    "remove e: Delete the first occurrence of integer ee.\n",
    "append e: Insert integer e at the end of the list.\n",
    "sort: Sort the list.\n",
    "pop: Pop the last element from the list.\n"
   ]
  },
  {
   "cell_type": "code",
   "execution_count": 5,
   "id": "27b0a330",
   "metadata": {
    "scrolled": true
   },
   "outputs": [
    {
     "name": "stdout",
     "output_type": "stream",
     "text": [
      "12 \n",
      "insert 0 5\n",
      "insert 1 10\n",
      "insert 0 6\n",
      "print\n",
      "[6, 5, 10]\n",
      "remove 6\n",
      "append 9\n",
      "append 1\n",
      "sort\n",
      "print\n",
      "[1, 5, 9, 10]\n",
      "pop\n",
      "reverse\n",
      "print\n",
      "[9, 5, 1]\n"
     ]
    }
   ],
   "source": [
    "N = int(input())\n",
    "L=[]\n",
    "for i in range(0,N):\n",
    "    cmd=input().split()\n",
    "    if cmd[0] == \"insert\":\n",
    "        L.insert(int(cmd[1]),int(cmd[2]))\n",
    "    elif cmd[0] == \"append\":\n",
    "        L.append(int(cmd[1]))\n",
    "    elif cmd[0] == \"pop\":\n",
    "        L.pop();\n",
    "    elif cmd[0] == \"print\":\n",
    "        print(L)\n",
    "    elif cmd[0] == \"remove\":\n",
    "        L.remove(int(cmd[1]))\n",
    "    elif cmd[0] == \"sort\":\n",
    "        L.sort();\n",
    "    else:\n",
    "        L.reverse();"
   ]
  },
  {
   "cell_type": "markdown",
   "id": "2b22d4b5",
   "metadata": {},
   "source": [
    "7. Tuples \n",
    "\n",
    "Given an integer,n , and n space-separated integers as input, create a tuple,t , of those n integers. Then compute and print the result of (hash t) ."
   ]
  },
  {
   "cell_type": "code",
   "execution_count": 2,
   "id": "6d696c1d",
   "metadata": {},
   "outputs": [
    {
     "name": "stdout",
     "output_type": "stream",
     "text": [
      "2\n",
      "1 2\n",
      "-3550055125485641917\n"
     ]
    }
   ],
   "source": [
    "n = int(input())\n",
    "integer_list = map(int, input().split())\n",
    "t = tuple(integer_list)\n",
    "print(hash(t))\n"
   ]
  },
  {
   "cell_type": "markdown",
   "id": "42d21f79",
   "metadata": {},
   "source": [
    "8. Introduction to sets "
   ]
  },
  {
   "cell_type": "code",
   "execution_count": 6,
   "id": "19d72d89",
   "metadata": {},
   "outputs": [
    {
     "name": "stdout",
     "output_type": "stream",
     "text": [
      "10\n",
      "161 182 161 154 176 170 167 171 170 174  \n",
      "169.375\n"
     ]
    }
   ],
   "source": [
    "n = int(input())\n",
    "arr = list(map(int, input().split()))\n",
    "result = average(arr)\n",
    "print(result)\n",
    "def average(array):\n",
    "    sum_array = sum(set(array))\n",
    "    len_array = len(set(array))\n",
    "    output = sum_array/len_array\n",
    "    return output;\n",
    "    "
   ]
  },
  {
   "cell_type": "markdown",
   "id": "690556e5",
   "metadata": {},
   "source": [
    "9. No Idea \n",
    "There is an array of n integers. There are also 2 disjoint sets,A  and B, each containing m  integers. You like all the integers in set A and dislike all the integers in set B. Your initial happiness is 0. For each  integer i in the array, if i element of A, you add 1 to your happiness. If i element of B, you add -1 to your happiness. Otherwise, your happiness does not change. Output your final happiness at the end.\n",
    "\n",
    "Note: Since A and B are sets, they have no repeated elements. However, the array might contain duplicate elements."
   ]
  },
  {
   "cell_type": "code",
   "execution_count": 7,
   "id": "65b115b4",
   "metadata": {},
   "outputs": [
    {
     "name": "stdout",
     "output_type": "stream",
     "text": [
      "3 2 \n",
      "1 5 3\n",
      "3 1\n",
      "5 7\n",
      "1\n"
     ]
    }
   ],
   "source": [
    "io = input().split()\n",
    "m = int(io[0])\n",
    "n = int(io[1])\n",
    "\n",
    "storage = list()\n",
    "count = 0\n",
    "\n",
    "storage = list(map(int, input().strip().split()))\n",
    "\n",
    "A = set(map(int, input().strip().split()))\n",
    "B = set(map(int, input().strip().split()))\n",
    "\n",
    "for i in storage:\n",
    "    if i in A:\n",
    "        count = count+1\n",
    "    if i in B:\n",
    "        count = count-1\n",
    "\n",
    "print(count)\n"
   ]
  },
  {
   "cell_type": "markdown",
   "id": "41af4419",
   "metadata": {},
   "source": [
    "10.Symmetric Difference \n",
    "\n",
    "Given  sets of integers,  and , print their symmetric difference in ascending order. The term symmetric difference indicates those values that exist in either  or  but do not exist in both."
   ]
  },
  {
   "cell_type": "code",
   "execution_count": 8,
   "id": "61538274",
   "metadata": {},
   "outputs": [
    {
     "name": "stdout",
     "output_type": "stream",
     "text": [
      "4\n",
      "2 4 5 9\n",
      "4\n",
      "2 4 11 12\n",
      "5\n",
      "9\n",
      "11\n",
      "12\n"
     ]
    }
   ],
   "source": [
    "M = int(input())\n",
    "mset = set(map(int, input().split()))\n",
    "N = int(input())\n",
    "nset = set(map(int, input().split()))\n",
    "\n",
    "mdef = mset.difference(nset)\n",
    "ndef = nset.difference(mset)\n",
    "\n",
    "output = mdef.union(ndef)\n",
    "\n",
    "for i in sorted(list(output)):\n",
    "    print(i)"
   ]
  },
  {
   "cell_type": "markdown",
   "id": "5800ced2",
   "metadata": {},
   "source": [
    "11. Set.add()\n",
    "\n",
    "Rupal has a huge collection of country stamps. She decided to count the total number of distinct country stamps in her collection. She asked for your help. You pick the stamps one by one from a stack of N country stamps.\n",
    "\n",
    "Find the total number of distinct country stamps."
   ]
  },
  {
   "cell_type": "code",
   "execution_count": 10,
   "id": "f1be58f5",
   "metadata": {},
   "outputs": [
    {
     "name": "stdout",
     "output_type": "stream",
     "text": [
      "7\n",
      "UK\n",
      "China\n",
      "USA\n",
      "France\n",
      "New Zealand\n",
      "UK\n",
      "France\n",
      "5\n"
     ]
    }
   ],
   "source": [
    "N= int(input())\n",
    "stamp=set()\n",
    "for i in range (N):\n",
    "    stamp.add(input())\n",
    "print(len(stamp))\n",
    "    "
   ]
  },
  {
   "cell_type": "markdown",
   "id": "61fdec65",
   "metadata": {},
   "source": [
    "11. Set .discard(), .remove() & .pop()\n",
    "\n",
    "You have a non-empty set s, and you have to execute N commands given in N lines.\n",
    "\n",
    "The commands will be pop, remove and discard.\n"
   ]
  },
  {
   "cell_type": "code",
   "execution_count": 11,
   "id": "61e5e071",
   "metadata": {},
   "outputs": [
    {
     "name": "stdout",
     "output_type": "stream",
     "text": [
      "9\n",
      "1 2 3 4 5 6 7 8 9\n",
      "10\n",
      "pop\n",
      "remove 9\n",
      "discard 9\n",
      "discard 8\n",
      "remove 7\n",
      "pop\n",
      "discard 6\n",
      "remove 5\n",
      "pop\n",
      "discard 5\n",
      "4\n"
     ]
    }
   ],
   "source": [
    "n = int(input())\n",
    "s = set(map(int,input().split()))\n",
    "num = int(input())\n",
    "for i in range(num):\n",
    "    ip = input().split()\n",
    "    if ip[0]==\"remove\":\n",
    "        s.remove(int(ip[1]))\n",
    "    elif ip[0]==\"discard\":\n",
    "        s.discard(int(ip[1]))\n",
    "    else :\n",
    "        s.pop()\n",
    "print(sum(list(s)))"
   ]
  },
  {
   "cell_type": "markdown",
   "id": "e240c0e5",
   "metadata": {},
   "source": [
    "12.Set .union() Operation \n"
   ]
  },
  {
   "cell_type": "code",
   "execution_count": 21,
   "id": "f958b24f",
   "metadata": {},
   "outputs": [
    {
     "name": "stdout",
     "output_type": "stream",
     "text": [
      "9\n",
      "1 2 3 4 5 6 7 8 9\n",
      "9\n",
      "10 1 2 3 11 21 55 6 8\n",
      "13\n"
     ]
    }
   ],
   "source": [
    "n1=int(input())\n",
    "set1=set(map(int,input().split()))\n",
    "n2=int(input())\n",
    "set2=set(map(int,input().split()))\n",
    "set3=set2.union(set1)\n",
    "print(len(set3))\n"
   ]
  },
  {
   "cell_type": "markdown",
   "id": "d09e03bd",
   "metadata": {},
   "source": [
    "13 Set intersection\n"
   ]
  },
  {
   "cell_type": "code",
   "execution_count": 1,
   "id": "86f03610",
   "metadata": {},
   "outputs": [
    {
     "name": "stdout",
     "output_type": "stream",
     "text": [
      "9\n",
      "1 2 3 4 5 6 7 8 9\n",
      "9\n",
      "10 1 2 3 11 21 55 6 8\n",
      "5\n"
     ]
    }
   ],
   "source": [
    "n1=int(input())\n",
    "set1=set(map(int,input().split()))\n",
    "n2=int(input())\n",
    "set2=set(map(int,input().split()))\n",
    "set3=set2.intersection(set1)\n",
    "print(len(set3))\n"
   ]
  },
  {
   "cell_type": "markdown",
   "id": "aa3b5b83",
   "metadata": {},
   "source": [
    "13 Set Difference"
   ]
  },
  {
   "cell_type": "code",
   "execution_count": 7,
   "id": "df55e7bb",
   "metadata": {},
   "outputs": [
    {
     "name": "stdout",
     "output_type": "stream",
     "text": [
      "9\n",
      "1 2 3 4 5 6 7 8 9\n",
      "9\n",
      "10 1 2 3 11 21 55 6 8\n",
      "4\n"
     ]
    }
   ],
   "source": [
    "eng_news=int(input())\n",
    "eng_roll=set(map(int,input().split()))\n",
    "french_news=int(input())\n",
    "french_roll=set(map(int,input().split()))\n",
    "diff=french_roll.difference(eng_roll)\n",
    "print(len(diff))\n",
    "\n"
   ]
  },
  {
   "cell_type": "markdown",
   "id": "8b5e6a82",
   "metadata": {},
   "source": [
    "14. Set Symmetric difference"
   ]
  },
  {
   "cell_type": "code",
   "execution_count": 8,
   "id": "7cfe05ed",
   "metadata": {},
   "outputs": [
    {
     "name": "stdout",
     "output_type": "stream",
     "text": [
      "9\n",
      "1 2 3 4 5 6 7 8 9\n",
      "9\n",
      "10 1 2 3 11 21 55 6 8\n",
      "8\n"
     ]
    }
   ],
   "source": [
    "eng_news=int(input())\n",
    "eng_roll=set(map(int,input().split()))\n",
    "french_news=int(input())\n",
    "french_roll=set(map(int,input().split()))\n",
    "diff=french_roll.symmetric_difference(eng_roll)\n",
    "print(len(diff))"
   ]
  },
  {
   "cell_type": "code",
   "execution_count": null,
   "id": "7a1c93dd",
   "metadata": {},
   "outputs": [],
   "source": [
    "15. Set Mutation"
   ]
  },
  {
   "cell_type": "code",
   "execution_count": 10,
   "id": "ca286116",
   "metadata": {},
   "outputs": [
    {
     "name": "stdout",
     "output_type": "stream",
     "text": [
      "16\n",
      " 1 2 3 4 5 6 7 8 9 10 11 12 13 14 24 52\n",
      "4\n",
      " intersection_update 10\n",
      " 2 3 5 6 8 9 1 4 7 11\n",
      "update 2\n",
      "55 66\n",
      "symmetric_difference_update 5\n",
      "22 7 35 62 58\n",
      " difference_update 7\n",
      "11 22 35 55 58 62 66\n",
      "38\n"
     ]
    }
   ],
   "source": [
    "len_set = int(input())\n",
    "\n",
    "storage = set(map(int, input().split()))\n",
    "\n",
    "op_len = int(input())\n",
    "\n",
    "for i in range(op_len):\n",
    "    operation = input().split()\n",
    "    if operation[0] == 'intersection_update':\n",
    "        temp_storage = set(map(int, input().split()))\n",
    "        storage.intersection_update(temp_storage)\n",
    "    elif operation[0] == 'update':\n",
    "        temp_storage = set(map(int, input().split()))\n",
    "        storage.update(temp_storage)\n",
    "    elif operation[0] == 'symmetric_difference_update':\n",
    "        temp_storage = set(map(int, input().split()))\n",
    "        storage.symmetric_difference_update(temp_storage)\n",
    "    elif operation[0] == 'difference_update':\n",
    "        temp_storage = set(map(int, input().split()))\n",
    "        storage.difference_update(temp_storage)\n",
    "    else :\n",
    "        assert False\n",
    "\n",
    "print(sum(storage))\n"
   ]
  },
  {
   "cell_type": "markdown",
   "id": "992b31f9",
   "metadata": {},
   "source": [
    "16.Mr. Anant Asankhya is the manager at the INFINITE hotel. The hotel has an infinite amount of rooms.\n",
    "\n",
    "One fine day, a finite number of tourists come to stay at the hotel.\n",
    "The tourists consist of:\n",
    "→ A Captain.\n",
    "→ An unknown group of families consisting of K members per group where K ≠1.\n",
    "\n",
    "The Captain was given a separate room, and the rest were given one room per group.\n",
    "\n",
    "Mr. Anant has an unordered list of randomly arranged room entries. The list consists of the room numbers for all of the tourists. The room numbers will appear K times per group except for the Captain's room.\n",
    "\n",
    "Mr. Anant needs you to help him find the Captain's room number.\n",
    "The total number of tourists or the total number of groups of families is not known to you.\n",
    "You only know the value of K and the room number list."
   ]
  },
  {
   "cell_type": "code",
   "execution_count": 1,
   "id": "7ce0b5c4",
   "metadata": {},
   "outputs": [
    {
     "name": "stdout",
     "output_type": "stream",
     "text": [
      "5\n",
      "1 2 3 6 5 4 4 2 5 3 6 1 6 5 3 2 4 1 2 5 1 4 3 6 8 4 3 1 5 6 2 \n",
      "8\n"
     ]
    }
   ],
   "source": [
    "N = int(input())\n",
    "\n",
    "storage = map(int, input().split())\n",
    "storage = sorted(storage)\n",
    "\n",
    "for i in range(len(storage)):\n",
    "    if(i != len(storage)-1):\n",
    "        if(storage[i]!=storage[i-1] and storage[i]!=storage[i+1]):\n",
    "            print(storage[i])\n",
    "            break;\n",
    "    else:\n",
    "        print(storage[i])"
   ]
  },
  {
   "cell_type": "markdown",
   "id": "a2a15734",
   "metadata": {},
   "source": [
    "17. Check Subset\n",
    "\n",
    "You are given two sets A ,B  and .\n",
    "Your job is to find whether set A is a subset of set B .\n"
   ]
  },
  {
   "cell_type": "code",
   "execution_count": 2,
   "id": "52e22784",
   "metadata": {},
   "outputs": [
    {
     "name": "stdout",
     "output_type": "stream",
     "text": [
      "3\n",
      "5\n",
      "1 2 3 5 6\n",
      "9\n",
      "9 8 5 6 3 2 1 4 7\n",
      "True\n",
      "1\n",
      "2\n",
      "5\n",
      "3 6 5 4 1\n",
      "False\n",
      "7\n",
      "1 2 3 5 6 8 9\n",
      "3\n",
      "9 8 2\n",
      "False\n"
     ]
    }
   ],
   "source": [
    "T = int(input())\n",
    "\n",
    "for _ in range(T):\n",
    "    a = input()\n",
    "    A = set(input().split())\n",
    "    b = int(input())\n",
    "    B = set(input().split())\n",
    "    print(A.issubset(B))"
   ]
  },
  {
   "cell_type": "markdown",
   "id": "061e951c",
   "metadata": {},
   "source": [
    "18. Check Strict Superset\n",
    "\n",
    "You are given a set A and n other sets.\n",
    "Your job is to find whether set A is a strict superset of each of the N sets.\n",
    "\n",
    "Print True, if A is a strict superset of each of the N  sets. Otherwise, print False.\n",
    "\n",
    "A strict superset has at least one element that does not exist in its subset."
   ]
  },
  {
   "cell_type": "code",
   "execution_count": 3,
   "id": "d1dda87e",
   "metadata": {},
   "outputs": [
    {
     "name": "stdout",
     "output_type": "stream",
     "text": [
      "1 2 3 4 5 6 7 8 9 10 11 12 23 45 84 78\n",
      "2\n",
      "1 2 3 4 5\n",
      "100 11 12\n",
      "False\n"
     ]
    }
   ],
   "source": [
    "storage = set(input().split())\n",
    "N = int(input())\n",
    "output = True\n",
    "\n",
    "for i in range(N):\n",
    "    storage2 = set(input().split())\n",
    "    if not storage2.issubset(storage):\n",
    "        output = False\n",
    "    if len(storage2) >= len(storage):\n",
    "        output = False\n",
    "\n",
    "print(output)"
   ]
  }
 ],
 "metadata": {
  "kernelspec": {
   "display_name": "Python 3",
   "language": "python",
   "name": "python3"
  },
  "language_info": {
   "codemirror_mode": {
    "name": "ipython",
    "version": 3
   },
   "file_extension": ".py",
   "mimetype": "text/x-python",
   "name": "python",
   "nbconvert_exporter": "python",
   "pygments_lexer": "ipython3",
   "version": "3.8.8"
  }
 },
 "nbformat": 4,
 "nbformat_minor": 5
}
